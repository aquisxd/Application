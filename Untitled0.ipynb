{
  "nbformat": 4,
  "nbformat_minor": 0,
  "metadata": {
    "colab": {
      "provenance": [],
      "authorship_tag": "ABX9TyO1N3BIqeKhalgCcgcbd8Id",
      "include_colab_link": true
    },
    "kernelspec": {
      "name": "python3",
      "display_name": "Python 3"
    },
    "language_info": {
      "name": "python"
    }
  },
  "cells": [
    {
      "cell_type": "markdown",
      "metadata": {
        "id": "view-in-github",
        "colab_type": "text"
      },
      "source": [
        "<a href=\"https://colab.research.google.com/github/aquisxd/Application/blob/main/Untitled0.ipynb\" target=\"_parent\"><img src=\"https://colab.research.google.com/assets/colab-badge.svg\" alt=\"Open In Colab\"/></a>"
      ]
    },
    {
      "cell_type": "code",
      "execution_count": null,
      "metadata": {
        "id": "qlRr217_d-xf"
      },
      "outputs": [],
      "source": [
        "# Importa la biblioteca pandas y la abrevia como pd\n",
        "import pandas as pd\n",
        "\n",
        "# Importa la biblioteca pyplot de matplotlib y la abrevia como plt\n",
        "import matplotlib.pyplot as plt\n",
        "\n",
        "# Importa la biblioteca bar_chart_race y la abrevia como bcr\n",
        "import bar_chart_race as bcr\n",
        "\n",
        "# Lee el archivo CSV de una URL y lo almacena en un DataFrame llamado df\n",
        "df = pd.read_csv(\"https://docs.google.com/spreadsheets/d/e/2PACX-1vRpjVTFqIaJbNs77E7Be9yjM6Ab5EDRA8WwHU-YLrRGnonmSQd0e_HyU69S-ewbKHlBkfeXSuGslwZe/pub?gid=1906621403&single=true&output=csv\", index_col=\"Fecha\")\n",
        "\n",
        "bcr.bar_chart_race(df=df, title=\"Número de exportaciones por Año\", filename=\"peruymexico.mp4\")"
      ]
    }
  ]
}