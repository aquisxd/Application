{
  "nbformat": 4,
  "nbformat_minor": 0,
  "metadata": {
    "colab": {
      "provenance": [],
      "authorship_tag": "ABX9TyNdcz+8J2B7rIE8gkEjCNpn",
      "include_colab_link": true
    },
    "kernelspec": {
      "name": "python3",
      "display_name": "Python 3"
    },
    "language_info": {
      "name": "python"
    }
  },
  "cells": [
    {
      "cell_type": "markdown",
      "metadata": {
        "id": "view-in-github",
        "colab_type": "text"
      },
      "source": [
        "<a href=\"https://colab.research.google.com/github/aquisxd/Application/blob/main/Ejercicio01.ipynb\" target=\"_parent\"><img src=\"https://colab.research.google.com/assets/colab-badge.svg\" alt=\"Open In Colab\"/></a>"
      ]
    },
    {
      "cell_type": "code",
      "execution_count": null,
      "metadata": {
        "id": "CfwD-LvYs30E"
      },
      "outputs": [],
      "source": [
        "import pandas as pd\n"
      ]
    },
    {
      "cell_type": "markdown",
      "source": [
        "Ejercicio 1  carga de un archivo csb desde drive\n"
      ],
      "metadata": {
        "id": "YDSwiVHYs7nc"
      }
    },
    {
      "cell_type": "code",
      "source": [
        "datos = pd.read_csv(\"https://docs.google.com/spreadsheets/d/e/2PACX-1vTn5Uk0QcLsioM-vISYa9K8ya9QkUjYfB5MB1pBo-kJ33Jvgway6YP6Z2OnznWTfJT_wXRX_72i2QsH/pub?gid=327364427&single=true&output=csv\")\n",
        "print(datos)"
      ],
      "metadata": {
        "colab": {
          "base_uri": "https://localhost:8080/"
        },
        "id": "W8WZMa5vtW6c",
        "outputId": "83017daf-1690-4062-807a-0f6dab8e0a84"
      },
      "execution_count": null,
      "outputs": [
        {
          "output_type": "stream",
          "name": "stdout",
          "text": [
            "       nombre  edad    ciudad  ingresos\n",
            "0        Juan    30      Lima      2500\n",
            "1       María    28  Arequipa      3800\n",
            "2        Luis    35     Cusco      4800\n",
            "3         Ana    22  Trujillo      2000\n",
            "4       Pedro    28  Arequipa      3200\n",
            "5      Leonel    64   Juliaca      4980\n",
            "6       Laura    31      Lima      4200\n",
            "7      Carlos    25     Cusco      1800\n",
            "8       Sofía    29  Trujillo      2900\n",
            "9      Andrés    27      Lima      2600\n",
            "10   Gabriela    33  Arequipa      4000\n",
            "11    Micaela    21   Juliaca      5000\n",
            "12      Diego    24     Cusco      3200\n",
            "13  Valentina    26  Trujillo      3500\n",
            "14     Lorena    30      Lima      3800\n",
            "15     Javier    32  Arequipa      5000\n",
            "16    Daniela    29      Lima      2700\n",
            "17     Manuel    31  Trujillo      2700\n",
            "18   Fernanda    28     Cusco      2100\n",
            "19    Ricardo    35      Lima      4400\n",
            "20      Lucía    23  Trujillo      1500\n",
            "21       José    34  Arequipa      4200\n",
            "22      Willy    55      Puno      1300\n"
          ]
        }
      ]
    }
  ]
}