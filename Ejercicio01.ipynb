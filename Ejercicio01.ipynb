{
  "nbformat": 4,
  "nbformat_minor": 0,
  "metadata": {
    "colab": {
      "provenance": [],
      "authorship_tag": "ABX9TyOvFhr2WzyIzusRGpnigpa0",
      "include_colab_link": true
    },
    "kernelspec": {
      "name": "python3",
      "display_name": "Python 3"
    },
    "language_info": {
      "name": "python"
    }
  },
  "cells": [
    {
      "cell_type": "markdown",
      "metadata": {
        "id": "view-in-github",
        "colab_type": "text"
      },
      "source": [
        "<a href=\"https://colab.research.google.com/github/aquisxd/Application/blob/main/Ejercicio01.ipynb\" target=\"_parent\"><img src=\"https://colab.research.google.com/assets/colab-badge.svg\" alt=\"Open In Colab\"/></a>"
      ]
    },
    {
      "cell_type": "code",
      "execution_count": null,
      "metadata": {
        "id": "CfwD-LvYs30E"
      },
      "outputs": [],
      "source": [
        "import pandas as pd\n",
        "import matplotlib.pyplot as plt"
      ]
    },
    {
      "cell_type": "markdown",
      "source": [
        "Ejercicio 1  carga de un archivo csb desde drive\n"
      ],
      "metadata": {
        "id": "YDSwiVHYs7nc"
      }
    },
    {
      "cell_type": "code",
      "source": [
        "datos = pd.read_csv(\"https://docs.google.com/spreadsheets/d/e/2PACX-1vTn5Uk0QcLsioM-vISYa9K8ya9QkUjYfB5MB1pBo-kJ33Jvgway6YP6Z2OnznWTfJT_wXRX_72i2QsH/pub?gid=327364427&single=true&output=csv\")\n",
        "print(datos)"
      ],
      "metadata": {
        "colab": {
          "base_uri": "https://localhost:8080/"
        },
        "id": "W8WZMa5vtW6c",
        "outputId": "83017daf-1690-4062-807a-0f6dab8e0a84"
      },
      "execution_count": null,
      "outputs": [
        {
          "output_type": "stream",
          "name": "stdout",
          "text": [
            "       nombre  edad    ciudad  ingresos\n",
            "0        Juan    30      Lima      2500\n",
            "1       María    28  Arequipa      3800\n",
            "2        Luis    35     Cusco      4800\n",
            "3         Ana    22  Trujillo      2000\n",
            "4       Pedro    28  Arequipa      3200\n",
            "5      Leonel    64   Juliaca      4980\n",
            "6       Laura    31      Lima      4200\n",
            "7      Carlos    25     Cusco      1800\n",
            "8       Sofía    29  Trujillo      2900\n",
            "9      Andrés    27      Lima      2600\n",
            "10   Gabriela    33  Arequipa      4000\n",
            "11    Micaela    21   Juliaca      5000\n",
            "12      Diego    24     Cusco      3200\n",
            "13  Valentina    26  Trujillo      3500\n",
            "14     Lorena    30      Lima      3800\n",
            "15     Javier    32  Arequipa      5000\n",
            "16    Daniela    29      Lima      2700\n",
            "17     Manuel    31  Trujillo      2700\n",
            "18   Fernanda    28     Cusco      2100\n",
            "19    Ricardo    35      Lima      4400\n",
            "20      Lucía    23  Trujillo      1500\n",
            "21       José    34  Arequipa      4200\n",
            "22      Willy    55      Puno      1300\n"
          ]
        }
      ]
    },
    {
      "cell_type": "code",
      "source": [
        "suma_ingresos = datos['ingresos'].sum()\n",
        "print(\"La suma de los ingresos es:\", suma_ingresos)"
      ],
      "metadata": {
        "colab": {
          "base_uri": "https://localhost:8080/"
        },
        "id": "si8qDEkowg-s",
        "outputId": "b093f745-bd01-43ce-f352-c458e4b0217d"
      },
      "execution_count": null,
      "outputs": [
        {
          "output_type": "stream",
          "name": "stdout",
          "text": [
            "La suma de los ingresos es: 76180\n"
          ]
        }
      ]
    },
    {
      "cell_type": "code",
      "source": [
        "promedio_edad = datos['edad'].mean()\n",
        "\n",
        "# Imprimir el promedio de la edad\n",
        "print(\"El promedio de edad es:\",int (promedio_edad))"
      ],
      "metadata": {
        "colab": {
          "base_uri": "https://localhost:8080/"
        },
        "id": "Hvm7UCx5xZyk",
        "outputId": "a6afee58-5f55-4e77-a036-0d69969cc780"
      },
      "execution_count": null,
      "outputs": [
        {
          "output_type": "stream",
          "name": "stdout",
          "text": [
            "El promedio de edad es: 31\n"
          ]
        }
      ]
    },
    {
      "cell_type": "code",
      "source": [
        "ciudad_deseada = 'Arequipa'  # Filtrar por la ciudad de Arequipa\n",
        "trabajadores_arequipa = datos[datos['ciudad'] == ciudad_deseada]\n",
        "\n",
        "# Imprimir los primeros registros del DataFrame filtrado\n",
        "print(trabajadores_arequipa.head())"
      ],
      "metadata": {
        "colab": {
          "base_uri": "https://localhost:8080/"
        },
        "id": "mmBJ62ghx-WW",
        "outputId": "f1ebf12f-4609-4317-df88-83978ea1aa48"
      },
      "execution_count": null,
      "outputs": [
        {
          "output_type": "stream",
          "name": "stdout",
          "text": [
            "      nombre  edad    ciudad  ingresos\n",
            "1      María    28  Arequipa      3800\n",
            "4      Pedro    28  Arequipa      3200\n",
            "10  Gabriela    33  Arequipa      4000\n",
            "15    Javier    32  Arequipa      5000\n",
            "21      José    34  Arequipa      4200\n"
          ]
        }
      ]
    },
    {
      "cell_type": "code",
      "source": [
        "trabajodores_arequipa = datos[datos['ciudad'] == \"Arequipa\"]\n",
        "print(trabajadores_arequipa.head())"
      ],
      "metadata": {
        "colab": {
          "base_uri": "https://localhost:8080/"
        },
        "id": "wUGpgr2v0lf1",
        "outputId": "8f023407-2cfe-4180-d03c-8c5975dd214f"
      },
      "execution_count": null,
      "outputs": [
        {
          "output_type": "stream",
          "name": "stdout",
          "text": [
            "      nombre  edad    ciudad  ingresos\n",
            "1      María    28  Arequipa      3800\n",
            "4      Pedro    28  Arequipa      3200\n",
            "10  Gabriela    33  Arequipa      4000\n",
            "15    Javier    32  Arequipa      5000\n",
            "21      José    34  Arequipa      4200\n"
          ]
        }
      ]
    },
    {
      "cell_type": "code",
      "source": [
        "ciudades_unicas = datos['ciudad'].unique()\n",
        "\n",
        "# Calcular el promedio de ingresos por ciudad\n",
        "promedio_ingresos_por_ciudad = {}\n",
        "for ciudad in ciudades_unicas:\n",
        "    promedio_ingresos_por_ciudad[ciudad] = datos[datos['ciudad'] == ciudad]['ingresos'].mean()\n",
        "\n",
        "# Imprimir el promedio de ingresos por ciudad\n",
        "for ciudad, promedio in promedio_ingresos_por_ciudad.items():\n",
        "    print(f\"El promedio de ingresos en {ciudad} es: {promedio}\")"
      ],
      "metadata": {
        "colab": {
          "base_uri": "https://localhost:8080/"
        },
        "id": "c2bqMR8g1Du0",
        "outputId": "3c196943-bb62-443a-f706-847a845b81e9"
      },
      "execution_count": null,
      "outputs": [
        {
          "output_type": "stream",
          "name": "stdout",
          "text": [
            "El promedio de ingresos en Lima es: int 3366.6666666666665\n",
            "El promedio de ingresos en Arequipa es: int 4040.0\n",
            "El promedio de ingresos en Cusco es: int 2975.0\n",
            "El promedio de ingresos en Trujillo es: int 2520.0\n",
            "El promedio de ingresos en Juliaca es: int 4990.0\n",
            "El promedio de ingresos en Puno es: int 1300.0\n"
          ]
        }
      ]
    },
    {
      "cell_type": "code",
      "source": [
        "promedio_ciudad = datos[datos['ciudad'] == \"ingresos\"].mean()\n",
        "print(f\"El promedio de ingresos en {ciudad} es: {promedio}\")"
      ],
      "metadata": {
        "colab": {
          "base_uri": "https://localhost:8080/"
        },
        "id": "BS65b9xr2Aet",
        "outputId": "ea203006-6e6d-4f63-e5c1-3f7ff95f95d9"
      },
      "execution_count": null,
      "outputs": [
        {
          "output_type": "stream",
          "name": "stdout",
          "text": [
            "El promedio de ingresos en Puno es: 1300.0\n"
          ]
        }
      ]
    },
    {
      "cell_type": "code",
      "source": [
        "mayor = datos.loc[datos['edad']==datos['edad'].max(), \"nombre\"].values[0]\n",
        "print(mayor);"
      ],
      "metadata": {
        "colab": {
          "base_uri": "https://localhost:8080/"
        },
        "id": "OlRljS782xbk",
        "outputId": "01572117-7728-42a0-dda9-64a0978ae9c5"
      },
      "execution_count": null,
      "outputs": [
        {
          "output_type": "stream",
          "name": "stdout",
          "text": [
            "Leonel\n"
          ]
        }
      ]
    },
    {
      "cell_type": "code",
      "source": [
        "menor = datos.loc[datos['edad']==datos['edad'].min(), \"nombre\"].values[0]\n",
        "print(menor);"
      ],
      "metadata": {
        "colab": {
          "base_uri": "https://localhost:8080/"
        },
        "id": "1Kd79R9u4Dxq",
        "outputId": "5681c030-6943-428b-aca8-7d8bd8a4a211"
      },
      "execution_count": null,
      "outputs": [
        {
          "output_type": "stream",
          "name": "stdout",
          "text": [
            "Micaela\n"
          ]
        }
      ]
    },
    {
      "cell_type": "code",
      "source": [
        "menor = datos.loc[datos['edad'] == datos['edad'].min()]\n",
        "ciudad_menor = menor['ciudad'].values[0]\n",
        "ingresos_menor = menor['ingresos'].values[0]\n",
        "\n",
        "# Imprimir el nombre, ciudad y salario de la persona más joven\n",
        "print(f\"La persona más joven es {menor['nombre'].values[0]}, trabaja en {ciudad_menor} y su salario es {ingresos_menor}\")"
      ],
      "metadata": {
        "colab": {
          "base_uri": "https://localhost:8080/"
        },
        "id": "qaED3Hj94WJl",
        "outputId": "dd5ac138-01bb-4597-9bd1-d0a412708e9a"
      },
      "execution_count": null,
      "outputs": [
        {
          "output_type": "stream",
          "name": "stdout",
          "text": [
            "La persona más joven es Micaela, trabaja en Juliaca y su salario es 5000\n"
          ]
        }
      ]
    },
    {
      "cell_type": "code",
      "source": [
        "reporte_trabajadores_por_ciudad = datos.groupby('ciudad').size()\n",
        "# Ordenar el reporte de menor a mayor\n",
        "reporte_trabajadores_por_ciudad = reporte_trabajadores_por_ciudad.sort_values()\n",
        "\n",
        "# Imprimir el reporte\n",
        "print(\"Reporte de Trabajadores por Ciudad (de menor a mayor):\")\n",
        "print(reporte_trabajadores_por_ciudad)"
      ],
      "metadata": {
        "colab": {
          "base_uri": "https://localhost:8080/"
        },
        "id": "MSfj6fFg5CwE",
        "outputId": "3dfef964-c4fc-4945-8784-379c17408d39"
      },
      "execution_count": null,
      "outputs": [
        {
          "output_type": "stream",
          "name": "stdout",
          "text": [
            "Reporte de Trabajadores por Ciudad (de menor a mayor):\n",
            "ciudad\n",
            "Puno        1\n",
            "Juliaca     2\n",
            "Cusco       4\n",
            "Arequipa    5\n",
            "Trujillo    5\n",
            "Lima        6\n",
            "dtype: int64\n"
          ]
        }
      ]
    },
    {
      "cell_type": "code",
      "source": [
        "listado_ordenado_por_edad = datos.sort_values(by='edad', ascending=False)\n",
        "\n",
        "# Imprimir el listado\n",
        "print(\"Listado de Trabajadores Ordenado por Edad (de forma descendente):\")\n",
        "print(listado_ordenado_por_edad)"
      ],
      "metadata": {
        "colab": {
          "base_uri": "https://localhost:8080/"
        },
        "id": "ax3qlWit6f0j",
        "outputId": "6af8fd72-8454-4d72-b73b-f66c878da411"
      },
      "execution_count": null,
      "outputs": [
        {
          "output_type": "stream",
          "name": "stdout",
          "text": [
            "Listado de Trabajadores Ordenado por Edad (de forma descendente):\n",
            "       nombre  edad    ciudad  ingresos\n",
            "5      Leonel    64   Juliaca      4980\n",
            "22      Willy    55      Puno      1300\n",
            "2        Luis    35     Cusco      4800\n",
            "19    Ricardo    35      Lima      4400\n",
            "21       José    34  Arequipa      4200\n",
            "10   Gabriela    33  Arequipa      4000\n",
            "15     Javier    32  Arequipa      5000\n",
            "6       Laura    31      Lima      4200\n",
            "17     Manuel    31  Trujillo      2700\n",
            "14     Lorena    30      Lima      3800\n",
            "0        Juan    30      Lima      2500\n",
            "8       Sofía    29  Trujillo      2900\n",
            "16    Daniela    29      Lima      2700\n",
            "1       María    28  Arequipa      3800\n",
            "18   Fernanda    28     Cusco      2100\n",
            "4       Pedro    28  Arequipa      3200\n",
            "9      Andrés    27      Lima      2600\n",
            "13  Valentina    26  Trujillo      3500\n",
            "7      Carlos    25     Cusco      1800\n",
            "12      Diego    24     Cusco      3200\n",
            "20      Lucía    23  Trujillo      1500\n",
            "3         Ana    22  Trujillo      2000\n",
            "11    Micaela    21   Juliaca      5000\n"
          ]
        }
      ]
    },
    {
      "cell_type": "code",
      "source": [
        "personas_mayores_30 = datos[datos['edad'] > 30]\n",
        "\n",
        "# Mostrar los ingresos y la ciudad de las personas mayores de 30 años\n",
        "print(personas_mayores_30[['nombre', 'ciudad', 'ingresos', 'edad']])"
      ],
      "metadata": {
        "colab": {
          "base_uri": "https://localhost:8080/"
        },
        "id": "xYA4exou84my",
        "outputId": "120980a6-c2e2-4d92-d737-89f60782a51a"
      },
      "execution_count": null,
      "outputs": [
        {
          "output_type": "stream",
          "name": "stdout",
          "text": [
            "      nombre    ciudad  ingresos  edad\n",
            "2       Luis     Cusco      4800    35\n",
            "5     Leonel   Juliaca      4980    64\n",
            "6      Laura      Lima      4200    31\n",
            "10  Gabriela  Arequipa      4000    33\n",
            "15    Javier  Arequipa      5000    32\n",
            "17    Manuel  Trujillo      2700    31\n",
            "19   Ricardo      Lima      4400    35\n",
            "21      José  Arequipa      4200    34\n",
            "22     Willy      Puno      1300    55\n"
          ]
        }
      ]
    },
    {
      "cell_type": "code",
      "source": [
        "ingresos_totales_por_ciudad = datos.groupby('ciudad')['ingresos'].sum()\n",
        "\n",
        "# Mostrar los ingresos totales por ciudad\n",
        "print(\"Ingresos Totales por Ciudad:\")\n",
        "print(ingresos_totales_por_ciudad)"
      ],
      "metadata": {
        "colab": {
          "base_uri": "https://localhost:8080/"
        },
        "id": "hZ8glHYG879a",
        "outputId": "1750d308-93b1-45a3-c6ef-42cc8affe1d0"
      },
      "execution_count": null,
      "outputs": [
        {
          "output_type": "stream",
          "name": "stdout",
          "text": [
            "Ingresos Totales por Ciudad:\n",
            "ciudad\n",
            "Arequipa    20200\n",
            "Cusco       11900\n",
            "Juliaca      9980\n",
            "Lima        20200\n",
            "Puno         1300\n",
            "Trujillo    12600\n",
            "Name: ingresos, dtype: int64\n"
          ]
        }
      ]
    },
    {
      "cell_type": "code",
      "source": [
        "persona_ingreso_mas_alto = datos.loc[datos['ingresos'].idxmax()]\n",
        "\n",
        "# Imprimir la información de la persona con el ingreso más alto\n",
        "print(\"Persona con el ingreso más alto:\")\n",
        "print(persona_ingreso_mas_alto)"
      ],
      "metadata": {
        "colab": {
          "base_uri": "https://localhost:8080/"
        },
        "id": "eCz2Xgyx9M6y",
        "outputId": "68d2558a-62cf-4009-c7d3-c2be30e93d1c"
      },
      "execution_count": null,
      "outputs": [
        {
          "output_type": "stream",
          "name": "stdout",
          "text": [
            "Persona con el ingreso más alto:\n",
            "nombre      Micaela\n",
            "edad             21\n",
            "ciudad      Juliaca\n",
            "ingresos       5000\n",
            "Name: 11, dtype: object\n"
          ]
        }
      ]
    },
    {
      "cell_type": "code",
      "source": [
        "plt.figure(figsize=(10, 6))\n",
        "\n",
        "# Crear el histograma de edades\n",
        "plt.hist(datos['edad'], bins=10, color='skyblue', edgecolor='black')\n",
        "\n",
        "# Agregar etiquetas y título\n",
        "plt.title('Histograma de Edades de los Trabajadores')\n",
        "plt.xlabel('Edad')\n",
        "plt.ylabel('Frecuencia')\n",
        "\n",
        "# Mostrar el histograma\n",
        "plt.show()"
      ],
      "metadata": {
        "colab": {
          "base_uri": "https://localhost:8080/",
          "height": 564
        },
        "id": "nL0GddMF9Wzg",
        "outputId": "e7d44365-9d6e-4c4c-b521-258f0c69f405"
      },
      "execution_count": null,
      "outputs": [
        {
          "output_type": "display_data",
          "data": {
            "text/plain": [
              "<Figure size 1000x600 with 1 Axes>"
            ],
            "image/png": "[encoded data removed]"
          },
          "metadata": {}
        }
      ]
    },
    {
      "cell_type": "code",
      "source": [
        "datos['impuestos'] = datos['ingresos'] * 0.1\n",
        "\n",
        "# Imprimir el DataFrame con la nueva columna\n",
        "print(datos)"
      ],
      "metadata": {
        "colab": {
          "base_uri": "https://localhost:8080/"
        },
        "id": "1Ly3QXlW9npT",
        "outputId": "b0feddca-4268-4c14-fba4-d03ccd467181"
      },
      "execution_count": null,
      "outputs": [
        {
          "output_type": "stream",
          "name": "stdout",
          "text": [
            "       nombre  edad    ciudad  ingresos  impuestos\n",
            "0        Juan    30      Lima      2500      250.0\n",
            "1       María    28  Arequipa      3800      380.0\n",
            "2        Luis    35     Cusco      4800      480.0\n",
            "3         Ana    22  Trujillo      2000      200.0\n",
            "4       Pedro    28  Arequipa      3200      320.0\n",
            "5      Leonel    64   Juliaca      4980      498.0\n",
            "6       Laura    31      Lima      4200      420.0\n",
            "7      Carlos    25     Cusco      1800      180.0\n",
            "8       Sofía    29  Trujillo      2900      290.0\n",
            "9      Andrés    27      Lima      2600      260.0\n",
            "10   Gabriela    33  Arequipa      4000      400.0\n",
            "11    Micaela    21   Juliaca      5000      500.0\n",
            "12      Diego    24     Cusco      3200      320.0\n",
            "13  Valentina    26  Trujillo      3500      350.0\n",
            "14     Lorena    30      Lima      3800      380.0\n",
            "15     Javier    32  Arequipa      5000      500.0\n",
            "16    Daniela    29      Lima      2700      270.0\n",
            "17     Manuel    31  Trujillo      2700      270.0\n",
            "18   Fernanda    28     Cusco      2100      210.0\n",
            "19    Ricardo    35      Lima      4400      440.0\n",
            "20      Lucía    23  Trujillo      1500      150.0\n",
            "21       José    34  Arequipa      4200      420.0\n",
            "22      Willy    55      Puno      1300      130.0\n"
          ]
        }
      ]
    }
  ]
}